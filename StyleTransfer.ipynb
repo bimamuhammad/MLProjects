{
  "nbformat": 4,
  "nbformat_minor": 0,
  "metadata": {
    "colab": {
      "private_outputs": true,
      "provenance": [],
      "gpuType": "T4",
      "authorship_tag": "ABX9TyPNmBNmguABeSd6jeCTJy9i",
      "include_colab_link": true
    },
    "kernelspec": {
      "name": "python3",
      "display_name": "Python 3"
    },
    "language_info": {
      "name": "python"
    },
    "accelerator": "GPU"
  },
  "cells": [
    {
      "cell_type": "markdown",
      "metadata": {
        "id": "view-in-github",
        "colab_type": "text"
      },
      "source": [
        "<a href=\"https://colab.research.google.com/github/bimamuhammad/MLProjects/blob/main/StyleTransfer.ipynb\" target=\"_parent\"><img src=\"https://colab.research.google.com/assets/colab-badge.svg\" alt=\"Open In Colab\"/></a>"
      ]
    },
    {
      "cell_type": "markdown",
      "source": [
        "# Style Transfer with Deep Neural Network"
      ],
      "metadata": {
        "id": "oTWPB8kXlVVE"
      }
    },
    {
      "cell_type": "markdown",
      "source": [
        "This notebook uses features found in VGG-19 network to extract style from an image."
      ],
      "metadata": {
        "id": "B3yhlItJlcfH"
      }
    },
    {
      "cell_type": "code",
      "execution_count": null,
      "metadata": {
        "id": "BLPn87zJlOna"
      },
      "outputs": [],
      "source": [
        "# import resources\n",
        "%matplotlib inline\n",
        "\n",
        "from PIL import Image\n",
        "from io import BytesIO\n",
        "import matplotlib.pyplot as plt\n",
        "import numpy as np\n",
        "\n",
        "import torch\n",
        "import torch.optim as optim\n",
        "import requests\n",
        "from torchvision import transforms, models"
      ]
    },
    {
      "cell_type": "markdown",
      "source": [
        "## Load the VGG features"
      ],
      "metadata": {
        "id": "QSki3lC7mA3S"
      }
    },
    {
      "cell_type": "code",
      "source": [
        "vgg = models.vgg19(pretrained=True).features\n",
        "for param in vgg.parameters():\n",
        "  param.requires_grad_(False)"
      ],
      "metadata": {
        "id": "Gyg9L9Pyl_i_"
      },
      "execution_count": null,
      "outputs": []
    },
    {
      "cell_type": "code",
      "source": [
        "device=torch.device(\"cuda\" if torch.cuda.is_available() else \"cpu\")\n",
        "vgg.to(device)"
      ],
      "metadata": {
        "id": "dMw59SYFmVKV"
      },
      "execution_count": null,
      "outputs": []
    },
    {
      "cell_type": "markdown",
      "source": [
        "## Load Content and Style Images"
      ],
      "metadata": {
        "id": "hLAwcAXJnMUc"
      }
    },
    {
      "cell_type": "code",
      "source": [
        "def load_image(img_path, max_size=400, shape=None):\n",
        "    ''' Load in and transform an image, making sure the image\n",
        "       is <= 400 pixels in the x-y dims.'''\n",
        "    if \"http\" in img_path:\n",
        "        response = requests.get(img_path)\n",
        "        image = Image.open(BytesIO(response.content)).convert('RGB')\n",
        "    else:\n",
        "        image = Image.open(img_path).convert('RGB')\n",
        "\n",
        "    # large images will slow down processing\n",
        "    if max(image.size) > max_size:\n",
        "        size = max_size\n",
        "    else:\n",
        "        size = max(image.size)\n",
        "\n",
        "    if shape is not None:\n",
        "        size = shape\n",
        "\n",
        "    in_transform = transforms.Compose([\n",
        "                        transforms.Resize(size),\n",
        "                        transforms.ToTensor(),\n",
        "                        transforms.Normalize((0.485, 0.456, 0.406),\n",
        "                                             (0.229, 0.224, 0.225))])\n",
        "\n",
        "    # discard the transparent, alpha channel (that's the :3) and add the batch dimension\n",
        "    image = in_transform(image)[:3,:,:].unsqueeze(0)\n",
        "\n",
        "    return image"
      ],
      "metadata": {
        "id": "2Q9v5vk1nEYb"
      },
      "execution_count": null,
      "outputs": []
    },
    {
      "cell_type": "code",
      "source": [
        "from google.colab import drive\n",
        "drive.mount('/content/drive')\n",
        "data_dir = 'drive/MyDrive/ML_Udacity/styleTransfer/'"
      ],
      "metadata": {
        "id": "zlP2M1PznvbD"
      },
      "execution_count": null,
      "outputs": []
    },
    {
      "cell_type": "code",
      "source": [
        "# load in content and style image\n",
        "content = load_image(f'{data_dir}octopus.jpg').to(device)\n",
        "# Resize style to match content, makes code easier\n",
        "style = load_image(f'{data_dir}hockney.jpg', shape=content.shape[-2:]).to(device)"
      ],
      "metadata": {
        "id": "AkLma-h4ohM_"
      },
      "execution_count": null,
      "outputs": []
    },
    {
      "cell_type": "code",
      "source": [
        "content.shape"
      ],
      "metadata": {
        "id": "nHHZ7_0Gox4F"
      },
      "execution_count": null,
      "outputs": []
    },
    {
      "cell_type": "code",
      "source": [
        "def im_convert(tensor):\n",
        "    \"\"\" Display a tensor as an image. \"\"\"\n",
        "\n",
        "    image = tensor.to(\"cpu\").clone().detach()\n",
        "    image = image.numpy().squeeze()\n",
        "    image = image.transpose(1,2,0)\n",
        "    image = image * np.array((0.229, 0.224, 0.225)) + np.array((0.485, 0.456, 0.406))\n",
        "    image = image.clip(0, 1)\n",
        "\n",
        "    return image"
      ],
      "metadata": {
        "id": "qtM8JHrvo3wD"
      },
      "execution_count": null,
      "outputs": []
    },
    {
      "cell_type": "code",
      "source": [
        "# display the images\n",
        "fig, (ax1, ax2) = plt.subplots(1, 2, figsize=(20, 10))\n",
        "# content and style ims side-by-side\n",
        "ax1.imshow(im_convert(content))\n",
        "ax2.imshow(im_convert(style))"
      ],
      "metadata": {
        "id": "pfXAIwMKP2Ij"
      },
      "execution_count": null,
      "outputs": []
    },
    {
      "cell_type": "markdown",
      "source": [
        "## VGG Layers"
      ],
      "metadata": {
        "id": "uVscQZzESDa8"
      }
    },
    {
      "cell_type": "code",
      "source": [
        "vgg"
      ],
      "metadata": {
        "id": "CnyVXGqIQOFk"
      },
      "execution_count": null,
      "outputs": []
    },
    {
      "cell_type": "markdown",
      "source": [
        "## COntent and Style geatures"
      ],
      "metadata": {
        "id": "pHVVqyN6Sbrn"
      }
    },
    {
      "cell_type": "code",
      "source": [
        "vgg[0]"
      ],
      "metadata": {
        "id": "AedPZ_OzTKty"
      },
      "execution_count": null,
      "outputs": []
    },
    {
      "cell_type": "code",
      "source": [
        "def get_features(image, model, layers=None):\n",
        "    \"\"\" Run an image forward through a model and get the features for\n",
        "        a set of layers. Default layers are for VGGNet matching Gatys et al (2016)\n",
        "    \"\"\"\n",
        "\n",
        "    ## TODO: Complete mapping layer names of PyTorch's VGGNet to names from the paper\n",
        "    ## Need the layers for the content and style representations of an image\n",
        "    if layers is None:\n",
        "        layers = {'0': 'conv1_1',\n",
        "                  '5': 'conv2_1',\n",
        "                  '10': 'conv3_1',\n",
        "                  '19': 'conv4_1',\n",
        "                  '21': 'conv4_2',  ## content representation\n",
        "                  '28': 'conv5_1'}\n",
        "\n",
        "\n",
        "    ## -- do not need to change the code below this line -- ##\n",
        "    features = {}\n",
        "    x = image\n",
        "    # model._modules is a dictionary holding each module in the model\n",
        "    for name, layer in model._modules.items():\n",
        "        x = layer(x)\n",
        "        if name in layers:\n",
        "            features[layers[name]] = x\n",
        "\n",
        "    return features"
      ],
      "metadata": {
        "id": "oWblN4XQR2nK"
      },
      "execution_count": null,
      "outputs": []
    },
    {
      "cell_type": "markdown",
      "source": [
        "## Gram Matrix"
      ],
      "metadata": {
        "id": "XJLTgosGdKKs"
      }
    },
    {
      "cell_type": "code",
      "source": [
        "def gram_matrix(tensor):\n",
        "    \"\"\" Calculate the Gram Matrix of a given tensor\n",
        "        Gram Matrix: https://en.wikipedia.org/wiki/Gramian_matrix\n",
        "    \"\"\"\n",
        "\n",
        "    # get the batch_size, depth, height, and width of the Tensor\n",
        "    b, d, h, w = tensor.size()\n",
        "\n",
        "    # reshape so we're multiplying the features for each channel\n",
        "    tensor = tensor.view(b * d, h * w)\n",
        "\n",
        "    # calculate the gram matrix\n",
        "    gram = torch.mm(tensor, tensor.t())\n",
        "\n",
        "    return gram"
      ],
      "metadata": {
        "id": "QHKDjWXsR7N9"
      },
      "execution_count": null,
      "outputs": []
    },
    {
      "cell_type": "markdown",
      "source": [
        "## Putting together"
      ],
      "metadata": {
        "id": "kTwS4aEZdxUb"
      }
    },
    {
      "cell_type": "code",
      "source": [
        "# get content and style features only once before training\n",
        "content_features = get_features(content, vgg)\n",
        "style_features = get_features(style, vgg)\n",
        "\n",
        "# calculate the gram matrices for each layer of our style representation\n",
        "style_grams = {layer: gram_matrix(style_features[layer]) for layer in style_features}\n",
        "\n",
        "# create a third \"target\" image and prep it for change\n",
        "# it is a good idea to start off with the target as a copy of our *content* image\n",
        "# then iteratively change its style\n",
        "target = content.clone().requires_grad_(True).to(device)"
      ],
      "metadata": {
        "id": "7ZxpDRMld5kr"
      },
      "execution_count": null,
      "outputs": []
    },
    {
      "cell_type": "markdown",
      "source": [
        "## Loss and Weight"
      ],
      "metadata": {
        "id": "uGqZiEQTeVsy"
      }
    },
    {
      "cell_type": "code",
      "source": [
        "# weights for each style layer\n",
        "# weighting earlier layers more will result in *larger* style artifacts\n",
        "# notice we are excluding `conv4_2` our content representation\n",
        "style_weights = {'conv1_1': 1.,\n",
        "                 'conv2_1': 0.75,\n",
        "                 'conv3_1': 0.2,\n",
        "                 'conv4_1': 0.2,\n",
        "                 'conv5_1': 0.2}\n",
        "\n",
        "content_weight = 1  # alpha\n",
        "style_weight = 1e6  # beta"
      ],
      "metadata": {
        "id": "KsCSey9deXnQ"
      },
      "execution_count": null,
      "outputs": []
    },
    {
      "cell_type": "markdown",
      "source": [
        "## Updating and Calculating Loss"
      ],
      "metadata": {
        "id": "uP4deBNNgLvR"
      }
    },
    {
      "cell_type": "code",
      "source": [
        "# for displaying the target image, intermittently\n",
        "show_every = 400\n",
        "\n",
        "# iteration hyperparameters\n",
        "optimizer = optim.Adam([target], lr=0.003)\n",
        "steps = 2000  # decide how many iterations to update your image (5000)\n",
        "\n",
        "for ii in range(1, steps+1):\n",
        "\n",
        "    ## TODO: get the features from your target image\n",
        "    ## Then calculate the content loss\n",
        "    target_features = get_features(target, vgg)\n",
        "    content_loss = torch.mean((target_features['conv4_2'] - content_features['conv4_2'])**2)\n",
        "\n",
        "    # the style loss\n",
        "    # initialize the style loss to 0\n",
        "    style_loss = 0\n",
        "    # iterate through each style layer and add to the style loss\n",
        "    for layer in style_weights:\n",
        "        # get the \"target\" style representation for the layer\n",
        "        target_feature = target_features[layer]\n",
        "        _, d, h, w = target_feature.shape\n",
        "\n",
        "        ## TODO: Calculate the target gram matrix\n",
        "        target_gram = gram_matrix(target_feature)\n",
        "\n",
        "        ## TODO:  get the \"style\" style representation\n",
        "        style_gram = style_grams[layer]\n",
        "        ## TODO: Calculate the style loss for one layer, weighted appropriately\n",
        "        layer_style_loss = style_weights[layer] * torch.mean((target_gram - style_gram)**2)\n",
        "\n",
        "        # add to the style loss\n",
        "        style_loss += layer_style_loss / (d * h * w)\n",
        "\n",
        "\n",
        "    ## TODO:  calculate the *total* loss\n",
        "    total_loss = content_weight*content_loss + style_weight * style_loss\n",
        "\n",
        "    ## -- do not need to change code, below -- ##\n",
        "    # update your target image\n",
        "    optimizer.zero_grad()\n",
        "    total_loss.backward()\n",
        "    optimizer.step()\n",
        "\n",
        "    # display intermediate images and print the loss\n",
        "    if  ii % show_every == 0:\n",
        "        print('Total loss: ', total_loss.item())\n",
        "        plt.imshow(im_convert(target))\n",
        "        plt.show()"
      ],
      "metadata": {
        "id": "bsH2RZEvgUYv"
      },
      "execution_count": null,
      "outputs": []
    },
    {
      "cell_type": "code",
      "source": [
        "import cv2\n",
        "import numpy as np\n",
        "\n",
        "# Assuming 'image_tensor' is your PyTorch tensor representing the image\n",
        "# Convert the tensor back to a NumPy array\n",
        "image_array = im_convert(target)\n",
        "\n",
        "# Check the data range\n",
        "min_val = np.min(image_array)\n",
        "max_val = np.max(image_array)\n",
        "print(f\"Min value: {min_val}, Max value: {max_val}\")\n",
        "\n",
        "# Rescale to [0, 255] range\n",
        "image_array = (image_array - min_val) * (255.0 / (max_val - min_val))\n",
        "\n",
        "# Convert to np.uint8 data type\n",
        "image_array = image_array.astype(np.uint8)\n",
        "\n",
        "# Save the image to a file using OpenCV\n",
        "save_path = f'{data_dir}output_image.png'\n",
        "cv2.imwrite(save_path, image_array)\n",
        "\n",
        "print(f\"Image saved at: {save_path}\")"
      ],
      "metadata": {
        "id": "dX_lVkbbi3W4"
      },
      "execution_count": null,
      "outputs": []
    },
    {
      "cell_type": "code",
      "source": [
        "image_array.shape"
      ],
      "metadata": {
        "id": "YoqkpjKri5he"
      },
      "execution_count": null,
      "outputs": []
    },
    {
      "cell_type": "code",
      "source": [],
      "metadata": {
        "id": "noNFgVrri8Ny"
      },
      "execution_count": null,
      "outputs": []
    }
  ]
}