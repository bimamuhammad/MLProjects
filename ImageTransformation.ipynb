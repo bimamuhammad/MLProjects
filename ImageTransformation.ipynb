{
  "nbformat": 4,
  "nbformat_minor": 0,
  "metadata": {
    "colab": {
      "private_outputs": true,
      "provenance": [],
      "authorship_tag": "ABX9TyM+IY9pUIp2o3vPyXOiQKra",
      "include_colab_link": true
    },
    "kernelspec": {
      "name": "python3",
      "display_name": "Python 3"
    },
    "language_info": {
      "name": "python"
    }
  },
  "cells": [
    {
      "cell_type": "markdown",
      "metadata": {
        "id": "view-in-github",
        "colab_type": "text"
      },
      "source": [
        "<a href=\"https://colab.research.google.com/github/bimamuhammad/MLProjects/blob/main/ImageTransformation.ipynb\" target=\"_parent\"><img src=\"https://colab.research.google.com/assets/colab-badge.svg\" alt=\"Open In Colab\"/></a>"
      ]
    },
    {
      "cell_type": "code",
      "execution_count": null,
      "metadata": {
        "id": "2M0zXEKG3ZJB"
      },
      "outputs": [],
      "source": [
        "from PIL import Image\n",
        "from io import BytesIO\n",
        "import matplotlib.pyplot as plt\n",
        "import numpy as np\n",
        "\n",
        "import torch\n",
        "from torchvision import transforms, models\n",
        "import torch.optim as optim\n",
        "\n",
        "import requests"
      ]
    },
    {
      "cell_type": "code",
      "source": [
        "from google.colab import drive\n",
        "drive.mount('/content/drive')\n",
        "data_dir = 'drive/MyDrive/ML_Udacity/styleTransfer/'"
      ],
      "metadata": {
        "id": "IYRp2pWB3_Rq"
      },
      "execution_count": null,
      "outputs": []
    },
    {
      "cell_type": "code",
      "source": [
        "image = Image.open(f'{data_dir}Personal.jpg').convert('RGB')"
      ],
      "metadata": {
        "id": "YR--RgEk4Oh3"
      },
      "execution_count": null,
      "outputs": []
    },
    {
      "cell_type": "code",
      "source": [
        "image.size"
      ],
      "metadata": {
        "id": "CMYL9jZH4qAp"
      },
      "execution_count": null,
      "outputs": []
    },
    {
      "cell_type": "code",
      "source": [
        "image_transform = transforms.Compose([transforms.Resize(224), transforms.RandomPerspective(distortion_scale=0.6, p=1.0), transforms.ToTensor(), transforms.Normalize((0.485, 0.456, 0.406), (0.229, 0.224, 0.225))])"
      ],
      "metadata": {
        "id": "PhlOTuSt4sRs"
      },
      "execution_count": null,
      "outputs": []
    },
    {
      "cell_type": "code",
      "source": [
        "image = image_transform(image)"
      ],
      "metadata": {
        "id": "QfEA6fWR5hsD"
      },
      "execution_count": null,
      "outputs": []
    },
    {
      "cell_type": "code",
      "source": [
        "image = image[:3,:,:].unsqueeze(0)"
      ],
      "metadata": {
        "id": "bf2Pz0Gt5nN_"
      },
      "execution_count": null,
      "outputs": []
    },
    {
      "cell_type": "code",
      "source": [
        "image.shape"
      ],
      "metadata": {
        "id": "HjzIpPUC5pV4"
      },
      "execution_count": null,
      "outputs": []
    },
    {
      "cell_type": "code",
      "source": [
        "image = image.numpy().squeeze()"
      ],
      "metadata": {
        "id": "R6C_qDRK5-Mw"
      },
      "execution_count": null,
      "outputs": []
    },
    {
      "cell_type": "code",
      "source": [
        "image.shape"
      ],
      "metadata": {
        "id": "CMsd575w6xJL"
      },
      "execution_count": null,
      "outputs": []
    },
    {
      "cell_type": "code",
      "source": [
        "image = image.transpose(1, 2, 0)"
      ],
      "metadata": {
        "id": "ySGHkg8W63F4"
      },
      "execution_count": null,
      "outputs": []
    },
    {
      "cell_type": "code",
      "source": [
        "image = image * np.array((0.229, 0.224, 0.225))+np.array((0.485, 0.456, 0.406))"
      ],
      "metadata": {
        "id": "UpdoLrw467tH"
      },
      "execution_count": null,
      "outputs": []
    },
    {
      "cell_type": "code",
      "source": [
        "image = image.clip(0,1)"
      ],
      "metadata": {
        "id": "kNFqMAtd7oJu"
      },
      "execution_count": null,
      "outputs": []
    },
    {
      "cell_type": "code",
      "source": [
        "image"
      ],
      "metadata": {
        "id": "LMF2xbCz75z3"
      },
      "execution_count": null,
      "outputs": []
    },
    {
      "cell_type": "code",
      "source": [
        "fig, ax=plt.subplots(1,1, figsize=(5,5))\n",
        "ax.imshow(image)"
      ],
      "metadata": {
        "id": "JjrT5BIf8Aht"
      },
      "execution_count": null,
      "outputs": []
    },
    {
      "cell_type": "code",
      "source": [],
      "metadata": {
        "id": "9MII7Y-w8brd"
      },
      "execution_count": null,
      "outputs": []
    }
  ]
}