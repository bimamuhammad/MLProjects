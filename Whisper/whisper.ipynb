{
 "cells": [
  {
   "cell_type": "markdown",
   "id": "b7e97ef2-6ca5-4c99-a39e-93ee5fe326d1",
   "metadata": {},
   "source": [
    "# Open AI / Whisper Demo"
   ]
  },
  {
   "cell_type": "code",
   "execution_count": 9,
   "id": "9729b765-9e26-4b3d-bb37-a782cc12a501",
   "metadata": {},
   "outputs": [],
   "source": [
    "import whisper\n",
    "\n",
    "model = whisper.load_model('base')\n",
    "result = model.transcribe('0a9f9af7_nohash_1.wav', fp16=False)"
   ]
  },
  {
   "cell_type": "code",
   "execution_count": 10,
   "id": "8e1d68c8-9b84-4318-a4a3-3971916e7b4b",
   "metadata": {},
   "outputs": [
    {
     "data": {
      "text/plain": [
       "' Go!'"
      ]
     },
     "execution_count": 10,
     "metadata": {},
     "output_type": "execute_result"
    }
   ],
   "source": [
    "result['text']"
   ]
  },
  {
   "cell_type": "code",
   "execution_count": 11,
   "id": "92590560-0e2f-4faa-bb68-a9b317119e95",
   "metadata": {},
   "outputs": [
    {
     "name": "stdout",
     "output_type": "stream",
     "text": [
      "Detected language: am\n",
      "نا پاہ لتن بیو گا نکن نا دولے کسنچی مطاشی\n"
     ]
    }
   ],
   "source": [
    "import whisper\n",
    "\n",
    "model = whisper.load_model(\"base\")\n",
    "\n",
    "# load audio and pad/trim it to fit 30 seconds\n",
    "audio = whisper.load_audio(\"common_voice_ha_26693000.mp3\")\n",
    "audio = whisper.pad_or_trim(audio)\n",
    "\n",
    "# make log-Mel spectrogram and move to the same device as the model\n",
    "mel = whisper.log_mel_spectrogram(audio).to(model.device)\n",
    "\n",
    "# detect the spoken language\n",
    "_, probs = model.detect_language(mel)\n",
    "print(f\"Detected language: {max(probs, key=probs.get)}\")\n",
    "\n",
    "# decode the audio\n",
    "options = whisper.DecodingOptions(fp16=False)\n",
    "result = whisper.decode(model, mel, options)\n",
    "\n",
    "# print the recognized text\n",
    "print(result.text)"
   ]
  }
 ],
 "metadata": {
  "kernelspec": {
   "display_name": "Python 3 (ipykernel)",
   "language": "python",
   "name": "python3"
  },
  "language_info": {
   "codemirror_mode": {
    "name": "ipython",
    "version": 3
   },
   "file_extension": ".py",
   "mimetype": "text/x-python",
   "name": "python",
   "nbconvert_exporter": "python",
   "pygments_lexer": "ipython3",
   "version": "3.9.6"
  }
 },
 "nbformat": 4,
 "nbformat_minor": 5
}
