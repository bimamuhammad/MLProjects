{
 "cells": [
  {
   "cell_type": "markdown",
   "metadata": {},
   "source": [
    "# Weather Prediction using Recurrent Neural Network\n",
    "Data can be downloaded from https://www.kaggle.com/datasets/thedevastator/weather-prediction"
   ]
  },
  {
   "cell_type": "markdown",
   "metadata": {},
   "source": [
    "## Import required libraries"
   ]
  },
  {
   "cell_type": "code",
   "execution_count": 37,
   "metadata": {},
   "outputs": [],
   "source": [
    "import torch\n",
    "from torch import nn\n",
    "import numpy as np\n",
    "import matplotlib.pyplot as plt\n",
    "%matplotlib inline\n",
    "import pandas as pd\n",
    "import torch.optim as optim"
   ]
  },
  {
   "cell_type": "markdown",
   "metadata": {},
   "source": [
    "## Load data from csv file"
   ]
  },
  {
   "cell_type": "code",
   "execution_count": 5,
   "metadata": {},
   "outputs": [
    {
     "data": {
      "text/html": [
       "<div>\n",
       "<style scoped>\n",
       "    .dataframe tbody tr th:only-of-type {\n",
       "        vertical-align: middle;\n",
       "    }\n",
       "\n",
       "    .dataframe tbody tr th {\n",
       "        vertical-align: top;\n",
       "    }\n",
       "\n",
       "    .dataframe thead th {\n",
       "        text-align: right;\n",
       "    }\n",
       "</style>\n",
       "<table border=\"1\" class=\"dataframe\">\n",
       "  <thead>\n",
       "    <tr style=\"text-align: right;\">\n",
       "      <th></th>\n",
       "      <th>DATE</th>\n",
       "      <th>MONTH</th>\n",
       "      <th>BUDAPEST_temp_max</th>\n",
       "      <th>DE_BILT_temp_max</th>\n",
       "      <th>DRESDEN_temp_max</th>\n",
       "    </tr>\n",
       "  </thead>\n",
       "  <tbody>\n",
       "    <tr>\n",
       "      <th>0</th>\n",
       "      <td>20000101</td>\n",
       "      <td>1</td>\n",
       "      <td>-0.7</td>\n",
       "      <td>8.1</td>\n",
       "      <td>2.0</td>\n",
       "    </tr>\n",
       "    <tr>\n",
       "      <th>1</th>\n",
       "      <td>20000102</td>\n",
       "      <td>1</td>\n",
       "      <td>-1.9</td>\n",
       "      <td>8.7</td>\n",
       "      <td>4.0</td>\n",
       "    </tr>\n",
       "    <tr>\n",
       "      <th>2</th>\n",
       "      <td>20000103</td>\n",
       "      <td>1</td>\n",
       "      <td>1.1</td>\n",
       "      <td>9.6</td>\n",
       "      <td>5.1</td>\n",
       "    </tr>\n",
       "    <tr>\n",
       "      <th>3</th>\n",
       "      <td>20000104</td>\n",
       "      <td>1</td>\n",
       "      <td>0.1</td>\n",
       "      <td>9.4</td>\n",
       "      <td>5.2</td>\n",
       "    </tr>\n",
       "    <tr>\n",
       "      <th>4</th>\n",
       "      <td>20000105</td>\n",
       "      <td>1</td>\n",
       "      <td>3.9</td>\n",
       "      <td>7.4</td>\n",
       "      <td>6.9</td>\n",
       "    </tr>\n",
       "  </tbody>\n",
       "</table>\n",
       "</div>"
      ],
      "text/plain": [
       "       DATE  MONTH  BUDAPEST_temp_max  DE_BILT_temp_max  DRESDEN_temp_max\n",
       "0  20000101      1               -0.7               8.1               2.0\n",
       "1  20000102      1               -1.9               8.7               4.0\n",
       "2  20000103      1                1.1               9.6               5.1\n",
       "3  20000104      1                0.1               9.4               5.2\n",
       "4  20000105      1                3.9               7.4               6.9"
      ]
     },
     "execution_count": 5,
     "metadata": {},
     "output_type": "execute_result"
    }
   ],
   "source": [
    "df = pd.read_csv('weather_prediction_dataset.csv')\n",
    "df.head()"
   ]
  },
  {
   "cell_type": "code",
   "execution_count": 12,
   "metadata": {},
   "outputs": [
    {
     "data": {
      "text/html": [
       "<div>\n",
       "<style scoped>\n",
       "    .dataframe tbody tr th:only-of-type {\n",
       "        vertical-align: middle;\n",
       "    }\n",
       "\n",
       "    .dataframe tbody tr th {\n",
       "        vertical-align: top;\n",
       "    }\n",
       "\n",
       "    .dataframe thead th {\n",
       "        text-align: right;\n",
       "    }\n",
       "</style>\n",
       "<table border=\"1\" class=\"dataframe\">\n",
       "  <thead>\n",
       "    <tr style=\"text-align: right;\">\n",
       "      <th></th>\n",
       "      <th>DATE</th>\n",
       "      <th>DE_BILT_temp_max</th>\n",
       "    </tr>\n",
       "  </thead>\n",
       "  <tbody>\n",
       "    <tr>\n",
       "      <th>0</th>\n",
       "      <td>20000101</td>\n",
       "      <td>8.1</td>\n",
       "    </tr>\n",
       "    <tr>\n",
       "      <th>1</th>\n",
       "      <td>20000102</td>\n",
       "      <td>8.7</td>\n",
       "    </tr>\n",
       "    <tr>\n",
       "      <th>2</th>\n",
       "      <td>20000103</td>\n",
       "      <td>9.6</td>\n",
       "    </tr>\n",
       "    <tr>\n",
       "      <th>3</th>\n",
       "      <td>20000104</td>\n",
       "      <td>9.4</td>\n",
       "    </tr>\n",
       "    <tr>\n",
       "      <th>4</th>\n",
       "      <td>20000105</td>\n",
       "      <td>7.4</td>\n",
       "    </tr>\n",
       "  </tbody>\n",
       "</table>\n",
       "</div>"
      ],
      "text/plain": [
       "       DATE  DE_BILT_temp_max\n",
       "0  20000101               8.1\n",
       "1  20000102               8.7\n",
       "2  20000103               9.6\n",
       "3  20000104               9.4\n",
       "4  20000105               7.4"
      ]
     },
     "execution_count": 12,
     "metadata": {},
     "output_type": "execute_result"
    }
   ],
   "source": [
    "temp_df=df[['DATE', 'DE_BILT_temp_max']].dropna()\n",
    "temp_df.head()"
   ]
  },
  {
   "cell_type": "code",
   "execution_count": 91,
   "metadata": {},
   "outputs": [
    {
     "data": {
      "text/html": [
       "<div>\n",
       "<style scoped>\n",
       "    .dataframe tbody tr th:only-of-type {\n",
       "        vertical-align: middle;\n",
       "    }\n",
       "\n",
       "    .dataframe tbody tr th {\n",
       "        vertical-align: top;\n",
       "    }\n",
       "\n",
       "    .dataframe thead th {\n",
       "        text-align: right;\n",
       "    }\n",
       "</style>\n",
       "<table border=\"1\" class=\"dataframe\">\n",
       "  <thead>\n",
       "    <tr style=\"text-align: right;\">\n",
       "      <th></th>\n",
       "      <th>DATE</th>\n",
       "      <th>DE_BILT_temp_max</th>\n",
       "    </tr>\n",
       "  </thead>\n",
       "  <tbody>\n",
       "    <tr>\n",
       "      <th>3649</th>\n",
       "      <td>20091228</td>\n",
       "      <td>7.3</td>\n",
       "    </tr>\n",
       "    <tr>\n",
       "      <th>3650</th>\n",
       "      <td>20091229</td>\n",
       "      <td>1.7</td>\n",
       "    </tr>\n",
       "    <tr>\n",
       "      <th>3651</th>\n",
       "      <td>20091230</td>\n",
       "      <td>0.9</td>\n",
       "    </tr>\n",
       "    <tr>\n",
       "      <th>3652</th>\n",
       "      <td>20091231</td>\n",
       "      <td>0.5</td>\n",
       "    </tr>\n",
       "    <tr>\n",
       "      <th>3653</th>\n",
       "      <td>20100101</td>\n",
       "      <td>0.7</td>\n",
       "    </tr>\n",
       "  </tbody>\n",
       "</table>\n",
       "</div>"
      ],
      "text/plain": [
       "          DATE  DE_BILT_temp_max\n",
       "3649  20091228               7.3\n",
       "3650  20091229               1.7\n",
       "3651  20091230               0.9\n",
       "3652  20091231               0.5\n",
       "3653  20100101               0.7"
      ]
     },
     "execution_count": 91,
     "metadata": {},
     "output_type": "execute_result"
    }
   ],
   "source": [
    "temp_df.tail()"
   ]
  },
  {
   "cell_type": "markdown",
   "metadata": {},
   "source": [
    "## Validation data"
   ]
  },
  {
   "cell_type": "code",
   "execution_count": 92,
   "metadata": {},
   "outputs": [
    {
     "name": "stderr",
     "output_type": "stream",
     "text": [
      "C:\\Users\\bimam\\AppData\\Local\\Temp\\ipykernel_80812\\2816014657.py:3: SettingWithCopyWarning: \n",
      "A value is trying to be set on a copy of a slice from a DataFrame.\n",
      "Try using .loc[row_indexer,col_indexer] = value instead\n",
      "\n",
      "See the caveats in the documentation: https://pandas.pydata.org/pandas-docs/stable/user_guide/indexing.html#returning-a-view-versus-a-copy\n",
      "  masked_valid_df['DATE'] = pd.to_datetime(masked_valid_df['DATE'], format='%Y%m%d')\n",
      "C:\\Users\\bimam\\AppData\\Local\\Temp\\ipykernel_80812\\2816014657.py:4: SettingWithCopyWarning: \n",
      "A value is trying to be set on a copy of a slice from a DataFrame.\n",
      "Try using .loc[row_indexer,col_indexer] = value instead\n",
      "\n",
      "See the caveats in the documentation: https://pandas.pydata.org/pandas-docs/stable/user_guide/indexing.html#returning-a-view-versus-a-copy\n",
      "  masked_valid_df['event_date']=masked_valid_df['DATE'].dt.strftime('%Y-%m-%d')\n"
     ]
    },
    {
     "data": {
      "text/html": [
       "<div>\n",
       "<style scoped>\n",
       "    .dataframe tbody tr th:only-of-type {\n",
       "        vertical-align: middle;\n",
       "    }\n",
       "\n",
       "    .dataframe tbody tr th {\n",
       "        vertical-align: top;\n",
       "    }\n",
       "\n",
       "    .dataframe thead th {\n",
       "        text-align: right;\n",
       "    }\n",
       "</style>\n",
       "<table border=\"1\" class=\"dataframe\">\n",
       "  <thead>\n",
       "    <tr style=\"text-align: right;\">\n",
       "      <th></th>\n",
       "      <th>DATE</th>\n",
       "      <th>DE_BILT_temp_max</th>\n",
       "      <th>event_date</th>\n",
       "    </tr>\n",
       "  </thead>\n",
       "  <tbody>\n",
       "    <tr>\n",
       "      <th>3288</th>\n",
       "      <td>2009-01-01</td>\n",
       "      <td>0.5</td>\n",
       "      <td>2009-01-01</td>\n",
       "    </tr>\n",
       "    <tr>\n",
       "      <th>3289</th>\n",
       "      <td>2009-01-02</td>\n",
       "      <td>1.9</td>\n",
       "      <td>2009-01-02</td>\n",
       "    </tr>\n",
       "    <tr>\n",
       "      <th>3290</th>\n",
       "      <td>2009-01-03</td>\n",
       "      <td>1.6</td>\n",
       "      <td>2009-01-03</td>\n",
       "    </tr>\n",
       "    <tr>\n",
       "      <th>3291</th>\n",
       "      <td>2009-01-04</td>\n",
       "      <td>3.5</td>\n",
       "      <td>2009-01-04</td>\n",
       "    </tr>\n",
       "    <tr>\n",
       "      <th>3292</th>\n",
       "      <td>2009-01-05</td>\n",
       "      <td>1.5</td>\n",
       "      <td>2009-01-05</td>\n",
       "    </tr>\n",
       "  </tbody>\n",
       "</table>\n",
       "</div>"
      ],
      "text/plain": [
       "           DATE  DE_BILT_temp_max  event_date\n",
       "3288 2009-01-01               0.5  2009-01-01\n",
       "3289 2009-01-02               1.9  2009-01-02\n",
       "3290 2009-01-03               1.6  2009-01-03\n",
       "3291 2009-01-04               3.5  2009-01-04\n",
       "3292 2009-01-05               1.5  2009-01-05"
      ]
     },
     "execution_count": 92,
     "metadata": {},
     "output_type": "execute_result"
    }
   ],
   "source": [
    "valid_mask=(temp_df['DATE']>=20090101) & (temp_df['DATE']<20100101)\n",
    "masked_valid_df = temp_df.loc[valid_mask]\n",
    "masked_valid_df['DATE'] = pd.to_datetime(masked_valid_df['DATE'], format='%Y%m%d')\n",
    "masked_valid_df['event_date']=masked_valid_df['DATE'].dt.strftime('%Y-%m-%d')\n",
    "masked_valid_df.head()"
   ]
  },
  {
   "cell_type": "markdown",
   "metadata": {},
   "source": [
    "## Test data"
   ]
  },
  {
   "cell_type": "code",
   "execution_count": 28,
   "metadata": {},
   "outputs": [
    {
     "name": "stderr",
     "output_type": "stream",
     "text": [
      "C:\\Users\\bimam\\AppData\\Local\\Temp\\ipykernel_80812\\827462535.py:3: SettingWithCopyWarning: \n",
      "A value is trying to be set on a copy of a slice from a DataFrame.\n",
      "Try using .loc[row_indexer,col_indexer] = value instead\n",
      "\n",
      "See the caveats in the documentation: https://pandas.pydata.org/pandas-docs/stable/user_guide/indexing.html#returning-a-view-versus-a-copy\n",
      "  masked_temp_df['DATE'] = pd.to_datetime(masked_temp_df['DATE'], format='%Y%m%d')\n",
      "C:\\Users\\bimam\\AppData\\Local\\Temp\\ipykernel_80812\\827462535.py:4: SettingWithCopyWarning: \n",
      "A value is trying to be set on a copy of a slice from a DataFrame.\n",
      "Try using .loc[row_indexer,col_indexer] = value instead\n",
      "\n",
      "See the caveats in the documentation: https://pandas.pydata.org/pandas-docs/stable/user_guide/indexing.html#returning-a-view-versus-a-copy\n",
      "  masked_temp_df['event_date']=masked_temp_df['DATE'].dt.strftime('%Y-%m-%d')\n"
     ]
    },
    {
     "data": {
      "text/html": [
       "<div>\n",
       "<style scoped>\n",
       "    .dataframe tbody tr th:only-of-type {\n",
       "        vertical-align: middle;\n",
       "    }\n",
       "\n",
       "    .dataframe tbody tr th {\n",
       "        vertical-align: top;\n",
       "    }\n",
       "\n",
       "    .dataframe thead th {\n",
       "        text-align: right;\n",
       "    }\n",
       "</style>\n",
       "<table border=\"1\" class=\"dataframe\">\n",
       "  <thead>\n",
       "    <tr style=\"text-align: right;\">\n",
       "      <th></th>\n",
       "      <th>DATE</th>\n",
       "      <th>DE_BILT_temp_max</th>\n",
       "      <th>event_date</th>\n",
       "    </tr>\n",
       "  </thead>\n",
       "  <tbody>\n",
       "    <tr>\n",
       "      <th>1827</th>\n",
       "      <td>2005-01-01</td>\n",
       "      <td>10.6</td>\n",
       "      <td>2005-01-01</td>\n",
       "    </tr>\n",
       "    <tr>\n",
       "      <th>1828</th>\n",
       "      <td>2005-01-02</td>\n",
       "      <td>8.6</td>\n",
       "      <td>2005-01-02</td>\n",
       "    </tr>\n",
       "    <tr>\n",
       "      <th>1829</th>\n",
       "      <td>2005-01-03</td>\n",
       "      <td>8.9</td>\n",
       "      <td>2005-01-03</td>\n",
       "    </tr>\n",
       "    <tr>\n",
       "      <th>1830</th>\n",
       "      <td>2005-01-04</td>\n",
       "      <td>9.3</td>\n",
       "      <td>2005-01-04</td>\n",
       "    </tr>\n",
       "    <tr>\n",
       "      <th>1831</th>\n",
       "      <td>2005-01-05</td>\n",
       "      <td>7.7</td>\n",
       "      <td>2005-01-05</td>\n",
       "    </tr>\n",
       "  </tbody>\n",
       "</table>\n",
       "</div>"
      ],
      "text/plain": [
       "           DATE  DE_BILT_temp_max  event_date\n",
       "1827 2005-01-01              10.6  2005-01-01\n",
       "1828 2005-01-02               8.6  2005-01-02\n",
       "1829 2005-01-03               8.9  2005-01-03\n",
       "1830 2005-01-04               9.3  2005-01-04\n",
       "1831 2005-01-05               7.7  2005-01-05"
      ]
     },
     "execution_count": 28,
     "metadata": {},
     "output_type": "execute_result"
    }
   ],
   "source": [
    "mask=(temp_df['DATE']>=20050101) & (temp_df['DATE']<20090101)\n",
    "masked_temp_df = temp_df.loc[mask]\n",
    "masked_temp_df['DATE'] = pd.to_datetime(masked_temp_df['DATE'], format='%Y%m%d')\n",
    "masked_temp_df['event_date']=masked_temp_df['DATE'].dt.strftime('%Y-%m-%d')\n",
    "masked_temp_df.head()"
   ]
  },
  {
   "cell_type": "code",
   "execution_count": 29,
   "metadata": {},
   "outputs": [
    {
     "data": {
      "text/html": [
       "<div>\n",
       "<style scoped>\n",
       "    .dataframe tbody tr th:only-of-type {\n",
       "        vertical-align: middle;\n",
       "    }\n",
       "\n",
       "    .dataframe tbody tr th {\n",
       "        vertical-align: top;\n",
       "    }\n",
       "\n",
       "    .dataframe thead th {\n",
       "        text-align: right;\n",
       "    }\n",
       "</style>\n",
       "<table border=\"1\" class=\"dataframe\">\n",
       "  <thead>\n",
       "    <tr style=\"text-align: right;\">\n",
       "      <th></th>\n",
       "      <th>DATE</th>\n",
       "      <th>DE_BILT_temp_max</th>\n",
       "    </tr>\n",
       "  </thead>\n",
       "  <tbody>\n",
       "    <tr>\n",
       "      <th>count</th>\n",
       "      <td>1461</td>\n",
       "      <td>1461.000000</td>\n",
       "    </tr>\n",
       "    <tr>\n",
       "      <th>mean</th>\n",
       "      <td>2007-01-01 00:00:00</td>\n",
       "      <td>14.972621</td>\n",
       "    </tr>\n",
       "    <tr>\n",
       "      <th>min</th>\n",
       "      <td>2005-01-01 00:00:00</td>\n",
       "      <td>-3.700000</td>\n",
       "    </tr>\n",
       "    <tr>\n",
       "      <th>25%</th>\n",
       "      <td>2006-01-01 00:00:00</td>\n",
       "      <td>9.300000</td>\n",
       "    </tr>\n",
       "    <tr>\n",
       "      <th>50%</th>\n",
       "      <td>2007-01-01 00:00:00</td>\n",
       "      <td>15.300000</td>\n",
       "    </tr>\n",
       "    <tr>\n",
       "      <th>75%</th>\n",
       "      <td>2008-01-01 00:00:00</td>\n",
       "      <td>20.300000</td>\n",
       "    </tr>\n",
       "    <tr>\n",
       "      <th>max</th>\n",
       "      <td>2008-12-31 00:00:00</td>\n",
       "      <td>35.700000</td>\n",
       "    </tr>\n",
       "    <tr>\n",
       "      <th>std</th>\n",
       "      <td>NaN</td>\n",
       "      <td>7.193925</td>\n",
       "    </tr>\n",
       "  </tbody>\n",
       "</table>\n",
       "</div>"
      ],
      "text/plain": [
       "                      DATE  DE_BILT_temp_max\n",
       "count                 1461       1461.000000\n",
       "mean   2007-01-01 00:00:00         14.972621\n",
       "min    2005-01-01 00:00:00         -3.700000\n",
       "25%    2006-01-01 00:00:00          9.300000\n",
       "50%    2007-01-01 00:00:00         15.300000\n",
       "75%    2008-01-01 00:00:00         20.300000\n",
       "max    2008-12-31 00:00:00         35.700000\n",
       "std                    NaN          7.193925"
      ]
     },
     "execution_count": 29,
     "metadata": {},
     "output_type": "execute_result"
    }
   ],
   "source": [
    "masked_temp_df.describe()"
   ]
  },
  {
   "cell_type": "code",
   "execution_count": 35,
   "metadata": {},
   "outputs": [
    {
     "data": {
      "image/png": "[encoded data removed]",
      "text/plain": [
       "<Figure size 1000x500 with 1 Axes>"
      ]
     },
     "metadata": {},
     "output_type": "display_data"
    }
   ],
   "source": [
    "plt.figure(figsize=(20,10), dpi=50)\n",
    "plt.plot(masked_temp_df['event_date'], masked_temp_df['DE_BILT_temp_max'])\n",
    "plt.gca().set(title='Temp', xlabel='Date', ylabel=\"Degree\")\n",
    "plt.show()"
   ]
  },
  {
   "cell_type": "markdown",
   "metadata": {},
   "source": [
    "## Create Network"
   ]
  },
  {
   "cell_type": "code",
   "execution_count": 38,
   "metadata": {},
   "outputs": [],
   "source": [
    "class WeatherForecastRNN(nn.Module):\n",
    "    def __init__(self, input_size, hidden_dim, num_layers, output_size):\n",
    "        super(WeatherForecastRNN, self).__init__()\n",
    "\n",
    "        self.hidden_dim = hidden_dim\n",
    "\n",
    "        self.rnn = nn.RNN(input_size, hidden_dim,  num_layers, batch_first=True)\n",
    "        self.fc = nn.Linear(hidden_dim, output_size)\n",
    "\n",
    "    def forward(self, x, hidden):\n",
    "        x, hidden = self.rnn(x, hidden)\n",
    "        x = x.view(-1, self.hidden_dim )\n",
    "\n",
    "        x = self.fc(x)\n",
    "\n",
    "        return x, hidden"
   ]
  },
  {
   "cell_type": "markdown",
   "metadata": {},
   "source": [
    "## Explore RNN"
   ]
  },
  {
   "cell_type": "code",
   "execution_count": 39,
   "metadata": {},
   "outputs": [
    {
     "data": {
      "text/plain": [
       "WeatherForecastRNN(\n",
       "  (rnn): RNN(1, 10, num_layers=2, batch_first=True)\n",
       "  (fc): Linear(in_features=10, out_features=1, bias=True)\n",
       ")"
      ]
     },
     "execution_count": 39,
     "metadata": {},
     "output_type": "execute_result"
    }
   ],
   "source": [
    "input_size=1\n",
    "hidden_dim=10\n",
    "num_layers=2\n",
    "output_size=1\n",
    "\n",
    "test_rnn = WeatherForecastRNN(input_size, hidden_dim, num_layers, output_size)\n",
    "test_rnn"
   ]
  },
  {
   "cell_type": "markdown",
   "metadata": {},
   "source": [
    "### Loss and Criterion"
   ]
  },
  {
   "cell_type": "code",
   "execution_count": 77,
   "metadata": {},
   "outputs": [],
   "source": [
    "criterion = nn.MSELoss()\n",
    "optimizer = optim.Adam(test_rnn.parameters(), lr=0.001)"
   ]
  },
  {
   "cell_type": "markdown",
   "metadata": {},
   "source": [
    "### Input and Output"
   ]
  },
  {
   "cell_type": "code",
   "execution_count": 45,
   "metadata": {},
   "outputs": [
    {
     "data": {
      "text/plain": [
       "1827    10.6\n",
       "1828     8.6\n",
       "Name: DE_BILT_temp_max, dtype: float64"
      ]
     },
     "execution_count": 45,
     "metadata": {},
     "output_type": "execute_result"
    }
   ],
   "source": [
    "masked_temp_df['DE_BILT_temp_max'][:2]"
   ]
  },
  {
   "cell_type": "code",
   "execution_count": 46,
   "metadata": {},
   "outputs": [
    {
     "name": "stdout",
     "output_type": "stream",
     "text": [
      "Input size torch.Size([1, 2, 1])\n",
      "Hidden size torch.Size([2, 1, 10])\n",
      "Output size torch.Size([2, 1])\n"
     ]
    }
   ],
   "source": [
    "test_df = np.array(masked_temp_df['DE_BILT_temp_max'][:2])\n",
    "test_df.resize((2,1))\n",
    "test_data = torch.Tensor(test_df).unsqueeze(0)\n",
    "\n",
    "pred, hid= test_rnn(test_data, None)\n",
    "\n",
    "print(f'Input size {test_data.size()}')\n",
    "print(f'Hidden size {hid.size()}')\n",
    "print(f'Output size {pred.size()}')"
   ]
  },
  {
   "cell_type": "markdown",
   "metadata": {},
   "source": [
    "## Helper function to train network"
   ]
  },
  {
   "cell_type": "code",
   "execution_count": 98,
   "metadata": {},
   "outputs": [],
   "source": [
    "def train(input_size, hidden_dim, num_layers, output_size, print_every, seq_length, lrt):\n",
    "\n",
    "    model = WeatherForecastRNN(input_size, hidden_dim, num_layers, output_size)\n",
    "    criterion = nn.MSELoss()\n",
    "    optimizer = optim.Adam(model.parameters(), lr=lrt)\n",
    "    print(test_rnn)\n",
    "    hidden = None\n",
    "\n",
    "    for i in range(len(masked_temp_df)-seq_length):\n",
    "        input_df = np.array(masked_temp_df['DE_BILT_temp_max'][i:i+seq_length])\n",
    "        input_df.resize((seq_length,1))\n",
    "        input_df = torch.Tensor(input_df).unsqueeze(0)\n",
    "\n",
    "        output_df =  np.array(masked_temp_df['DE_BILT_temp_max'][i+seq_length:i+2*seq_length])\n",
    "        output_df.resize((seq_length,1))\n",
    "        output_df = torch.Tensor(output_df).unsqueeze(0)\n",
    "\n",
    "        r_out, hidden= model(input_df, hidden)\n",
    "        hidden = hidden.data\n",
    "\n",
    "        loss = criterion(r_out, output_df)\n",
    "        optimizer.zero_grad()\n",
    "        loss.backward()\n",
    "        optimizer.step()\n",
    "        \n",
    "        if i % print_every==0:\n",
    "            model.eval()\n",
    "            optimizer.zero_grad()\n",
    "            vloss=0\n",
    "            vloss_count=0\n",
    "            for j in range(len(masked_valid_df)-seq_length):\n",
    "                input_df = np.array(masked_valid_df['DE_BILT_temp_max'][j:j+seq_length])\n",
    "                input_df.resize((seq_length,1))\n",
    "                input_df = torch.Tensor(input_df).unsqueeze(0)\n",
    "\n",
    "                output_df =  np.array(masked_valid_df['DE_BILT_temp_max'][j+seq_length:j+2*seq_length])\n",
    "                output_df.resize((seq_length,1))\n",
    "                output_df = torch.Tensor(output_df).unsqueeze(0)\n",
    "\n",
    "                r_out, hidden= model(input_df, hidden)\n",
    "                vloss += criterion(r_out, output_df)\n",
    "                vloss_count+=1\n",
    "\n",
    "                \n",
    "            print(f'Test Loss: {loss.item()}, Verification loss: {vloss/vloss_count}')\n",
    "            model.train()\n",
    "    return model"
   ]
  },
  {
   "cell_type": "code",
   "execution_count": 106,
   "metadata": {},
   "outputs": [
    {
     "name": "stdout",
     "output_type": "stream",
     "text": [
      "WeatherForecastRNN(\n",
      "  (rnn): RNN(1, 10, num_layers=2, batch_first=True)\n",
      "  (fc): Linear(in_features=10, out_features=1, bias=True)\n",
      ")\n",
      "Test Loss: 60.30628204345703, Verification loss: 301.6134948730469\n",
      "Test Loss: 217.4079132080078, Verification loss: 259.437744140625\n",
      "Test Loss: 410.7327575683594, Verification loss: 226.68051147460938\n",
      "Test Loss: 342.93597412109375, Verification loss: 205.38990783691406\n",
      "Test Loss: 301.40057373046875, Verification loss: 189.48377990722656\n",
      "Test Loss: 96.51091003417969, Verification loss: 177.79209899902344\n",
      "Test Loss: 8.530558586120605, Verification loss: 173.537353515625\n",
      "Test Loss: 6.851252555847168, Verification loss: 173.2025909423828\n",
      "Test Loss: 72.11358642578125, Verification loss: 171.1641387939453\n",
      "Test Loss: 246.54031372070312, Verification loss: 160.68460083007812\n",
      "Test Loss: 461.04986572265625, Verification loss: 146.02670288085938\n",
      "Test Loss: 248.57150268554688, Verification loss: 132.0236053466797\n",
      "Test Loss: 80.09568786621094, Verification loss: 122.29908752441406\n",
      "Test Loss: 15.644365310668945, Verification loss: 117.9256591796875\n",
      "Test Loss: 10.363997459411621, Verification loss: 116.61250305175781\n",
      "Test Loss: 38.52104949951172, Verification loss: 115.1115493774414\n",
      "Test Loss: 149.6089630126953, Verification loss: 108.76075744628906\n",
      "Test Loss: 166.83938598632812, Verification loss: 100.66326904296875\n",
      "Test Loss: 152.1220245361328, Verification loss: 93.03231048583984\n",
      "Test Loss: 42.53508758544922, Verification loss: 87.49580383300781\n",
      "Test Loss: 9.163932800292969, Verification loss: 85.74356079101562\n",
      "Test Loss: 7.432567596435547, Verification loss: 87.16448974609375\n",
      "Test Loss: 5.866382122039795, Verification loss: 87.68013763427734\n",
      "Test Loss: 90.81836700439453, Verification loss: 87.16242218017578\n",
      "Test Loss: 142.4891357421875, Verification loss: 81.71295166015625\n",
      "Test Loss: 143.47354125976562, Verification loss: 75.84648132324219\n",
      "Test Loss: 40.72053146362305, Verification loss: 71.32078552246094\n",
      "Test Loss: 15.497833251953125, Verification loss: 69.84496307373047\n",
      "Test Loss: 96.3712158203125, Verification loss: 71.70618438720703\n"
     ]
    }
   ],
   "source": [
    "trained_model = train(\n",
    "    input_size=1, \n",
    "    hidden_dim=10, \n",
    "    num_layers=3, \n",
    "    output_size=1, \n",
    "    print_every=50, \n",
    "    seq_length=40, \n",
    "    lrt=0.001\n",
    "    )"
   ]
  }
 ],
 "metadata": {
  "kernelspec": {
   "display_name": "Python 3",
   "language": "python",
   "name": "python3"
  },
  "language_info": {
   "codemirror_mode": {
    "name": "ipython",
    "version": 3
   },
   "file_extension": ".py",
   "mimetype": "text/x-python",
   "name": "python",
   "nbconvert_exporter": "python",
   "pygments_lexer": "ipython3",
   "version": "3.11.3"
  },
  "orig_nbformat": 4
 },
 "nbformat": 4,
 "nbformat_minor": 2
}
